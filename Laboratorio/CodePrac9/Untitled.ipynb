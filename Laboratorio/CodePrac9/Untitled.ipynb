{
 "cells": [
  {
   "cell_type": "markdown",
   "metadata": {},
   "source": [
    "# PRACTICA 9: CALZADA MARTINEZ JONATHAN OMAR\n"
   ]
  },
  {
   "cell_type": "markdown",
   "metadata": {},
   "source": [
    "Se importo la biblioteca turtle para poder usarla "
   ]
  },
  {
   "cell_type": "code",
   "execution_count": 2,
   "metadata": {},
   "outputs": [],
   "source": [
    "import turtle"
   ]
  },
  {
   "cell_type": "markdown",
   "metadata": {},
   "source": [
    "Se hizo la funcion main"
   ]
  },
  {
   "cell_type": "code",
   "execution_count": null,
   "metadata": {},
   "outputs": [],
   "source": [
    "def main():"
   ]
  },
  {
   "cell_type": "markdown",
   "metadata": {},
   "source": [
    "Se  creo la variable ventana y se abrio el archivo \"dibujo.txt\".   Se dibujo el eje de sistema de coordenadas"
   ]
  },
  {
   "cell_type": "code",
   "execution_count": null,
   "metadata": {},
   "outputs": [],
   "source": [
    "t=turtle.Turtle()\n",
    "\tventana=t.getscreen()\n",
    "\tventana.bgcolor(\"cyan\")\n",
    "\tarchivo=open(\"dibujo.txt\") \n",
    "\tturtle.pensize(5)\n",
    "\tturtle.color(\"red\")\n",
    "\tturtle.goto(300, 0)\n",
    "\tturtle.goto(0,0)\n",
    "\tturtle.goto(0,200)"
   ]
  },
  {
   "cell_type": "markdown",
   "metadata": {},
   "source": [
    "Se crea el for para que se le una linea por cada iteración del for y ejecute las instrucciones"
   ]
  },
  {
   "cell_type": "code",
   "execution_count": null,
   "metadata": {},
   "outputs": [],
   "source": [
    "for renglon in archivo:\n",
    "\t\ttexto = renglon.split(\", \")\n",
    "\t\tcomando = texto[0].lower()"
   ]
  },
  {
   "cell_type": "markdown",
   "metadata": {},
   "source": [
    "Se crea la instrucción mover para que cuando la lea en el archivo ejecute las instrucciones, y cree la figura del coche"
   ]
  },
  {
   "cell_type": "code",
   "execution_count": null,
   "metadata": {},
   "outputs": [],
   "source": [
    "if comando == \"mover\":\n",
    "\t\t\tx=float(texto[1])\n",
    "\t\t\ty=float(texto[2])\n",
    "\t\t\tancho=float(texto[3].strip())\n",
    "\t\t\tcolor=texto[4].strip()\n",
    "\t\t\tt.width(ancho)\n",
    "\t\t\tt.pencolor(color)\n",
    "\t\t\tt.goto(x,y)"
   ]
  },
  {
   "cell_type": "markdown",
   "metadata": {},
   "source": [
    "Se crea la instrucción circulo para que cuando la lea en el archivo ejecute las instrucciones,  y cree las llantas del carro"
   ]
  },
  {
   "cell_type": "code",
   "execution_count": null,
   "metadata": {},
   "outputs": [],
   "source": [
    "if comando==\"circulo\":\n",
    "\t\t\tr=float(texto[1])\n",
    "\t\t\ta=float(texto[2])\n",
    "\t\t\tcolor=texto[3].strip()\n",
    "\t\t\tt.begin_fill()\n",
    "\t\t\tt.pendown()\n",
    "\t\t\tt.width(a)\n",
    "\t\t\tt.circle(r)\n",
    "\t\t\tt.end_fill()\n",
    "\t\t\tt.penup()"
   ]
  },
  {
   "cell_type": "markdown",
   "metadata": {},
   "source": [
    "Se crea la instrucción terminar relleno para que cuando la lea en el archivo ejecute las instrucciones"
   ]
  },
  {
   "cell_type": "code",
   "execution_count": null,
   "metadata": {},
   "outputs": [],
   "source": [
    "if comando==\"terminarrelleno\":\n",
    "\t\t\tt.end_fill()"
   ]
  },
  {
   "cell_type": "markdown",
   "metadata": {},
   "source": [
    "Se crea la instrucción aubirPluma para que cuando la lea en el archivo ejecute las instrucciones"
   ]
  },
  {
   "cell_type": "code",
   "execution_count": null,
   "metadata": {},
   "outputs": [],
   "source": [
    "if comando==\"subirpluma\":\n",
    "\t\t\tprint(\"Hola mundo\")\n",
    "\t\t\tt.penup()"
   ]
  },
  {
   "cell_type": "markdown",
   "metadata": {},
   "source": [
    "Se crea la instrucción bajarPluma para que cuando la lea en el archivo ejecute las instrucciones"
   ]
  },
  {
   "cell_type": "code",
   "execution_count": null,
   "metadata": {},
   "outputs": [],
   "source": [
    "if comando==\"bajarpluma\":\n",
    "\t\t\tt.pendown()"
   ]
  },
  {
   "cell_type": "markdown",
   "metadata": {},
   "source": [
    "Termina el for y se cierra el archivo"
   ]
  },
  {
   "cell_type": "code",
   "execution_count": null,
   "metadata": {},
   "outputs": [],
   "source": [
    "archivo.close()\n",
    "\tturtle.exitonclick()\n",
    "if __name__==\"__main__\":\n",
    "\tmain()"
   ]
  },
  {
   "cell_type": "markdown",
   "metadata": {},
   "source": [
    "# Es una buena biblioteca aun que en principio me tarde para agarrarle la onda\n",
    "parecia sencilla pero no lo fue tanto ya que ,a funcion agarrar Bajar y subir pluma no pude ejecutarla bien así como la de comenzar relleno, el codigo parecia que las ignoraba.  Pero lo solucione en el if de crear el circulo de la rueda, puse las instrucciones "
   ]
  },
  {
   "cell_type": "code",
   "execution_count": null,
   "metadata": {},
   "outputs": [],
   "source": []
  }
 ],
 "metadata": {
  "kernelspec": {
   "display_name": "Python 3",
   "language": "python",
   "name": "python3"
  },
  "language_info": {
   "codemirror_mode": {
    "name": "ipython",
    "version": 3
   },
   "file_extension": ".py",
   "mimetype": "text/x-python",
   "name": "python",
   "nbconvert_exporter": "python",
   "pygments_lexer": "ipython3",
   "version": "3.7.0"
  }
 },
 "nbformat": 4,
 "nbformat_minor": 2
}
